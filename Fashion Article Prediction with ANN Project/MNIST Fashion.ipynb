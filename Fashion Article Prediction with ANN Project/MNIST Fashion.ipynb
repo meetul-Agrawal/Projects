{
 "cells": [
  {
   "cell_type": "markdown",
   "id": "c53872f2",
   "metadata": {},
   "source": [
    "# importing necessary libraries"
   ]
  },
  {
   "cell_type": "code",
   "execution_count": 3,
   "id": "85a3e613",
   "metadata": {},
   "outputs": [],
   "source": [
    "import tensorflow as tf\n",
    "from tensorflow import keras\n",
    "import pandas as pd\n",
    "import numpy as np\n",
    "import matplotlib.pyplot as plt"
   ]
  },
  {
   "cell_type": "markdown",
   "id": "e6f97f05",
   "metadata": {},
   "source": [
    "# importing dataset"
   ]
  },
  {
   "cell_type": "code",
   "execution_count": 4,
   "id": "9cc8fdbf",
   "metadata": {},
   "outputs": [
    {
     "name": "stdout",
     "output_type": "stream",
     "text": [
      "Downloading data from https://storage.googleapis.com/tensorflow/tf-keras-datasets/train-labels-idx1-ubyte.gz\n",
      "29515/29515 [==============================] - 0s 3us/step\n",
      "Downloading data from https://storage.googleapis.com/tensorflow/tf-keras-datasets/train-images-idx3-ubyte.gz\n",
      "26421880/26421880 [==============================] - 2s 0us/step\n",
      "Downloading data from https://storage.googleapis.com/tensorflow/tf-keras-datasets/t10k-labels-idx1-ubyte.gz\n",
      "5148/5148 [==============================] - 0s 0s/step\n",
      "Downloading data from https://storage.googleapis.com/tensorflow/tf-keras-datasets/t10k-images-idx3-ubyte.gz\n",
      "4422102/4422102 [==============================] - 0s 0us/step\n"
     ]
    }
   ],
   "source": [
    "fashion_mnist = keras.datasets.fashion_mnist # load dataset\n",
    "(train_images,train_labels) , (test_images,test_labels) = fashion_mnist.load_data()"
   ]
  },
  {
   "cell_type": "markdown",
   "id": "f32ac1a2",
   "metadata": {},
   "source": [
    "# exploring dataset"
   ]
  },
  {
   "cell_type": "code",
   "execution_count": 5,
   "id": "8b755790",
   "metadata": {},
   "outputs": [
    {
     "data": {
      "text/plain": [
       "(60000, 28, 28)"
      ]
     },
     "execution_count": 5,
     "metadata": {},
     "output_type": "execute_result"
    }
   ],
   "source": [
    "train_images.shape"
   ]
  },
  {
   "cell_type": "code",
   "execution_count": 8,
   "id": "bfc0bfc5",
   "metadata": {},
   "outputs": [
    {
     "data": {
      "text/plain": [
       "array([  0,   3,   0,   0,   0,   0,   0,   0,   0,  62, 145, 204, 228,\n",
       "       207, 213, 221, 218, 208, 211, 218, 224, 223, 219, 215, 224, 244,\n",
       "       159,   0], dtype=uint8)"
      ]
     },
     "execution_count": 8,
     "metadata": {},
     "output_type": "execute_result"
    }
   ],
   "source": [
    "train_images[0,15]"
   ]
  },
  {
   "cell_type": "code",
   "execution_count": 11,
   "id": "a35351b3",
   "metadata": {},
   "outputs": [
    {
     "data": {
      "text/plain": [
       "array([9, 0, 0, 3, 0, 2, 7, 2, 5, 5], dtype=uint8)"
      ]
     },
     "execution_count": 11,
     "metadata": {},
     "output_type": "execute_result"
    }
   ],
   "source": [
    "train_labels[:10]"
   ]
  },
  {
   "cell_type": "code",
   "execution_count": 12,
   "id": "dfa5ae95",
   "metadata": {},
   "outputs": [],
   "source": [
    "class_names = ['t-shirt', 'trouser','pullover','dress','coat',\n",
    "              'sandal','shirt','sneaker','bag','ankle boot']"
   ]
  },
  {
   "cell_type": "code",
   "execution_count": 19,
   "id": "b483c53a",
   "metadata": {},
   "outputs": [
    {
     "data": {
      "text/plain": [
       "<matplotlib.image.AxesImage at 0x20128ca4c70>"
      ]
     },
     "execution_count": 19,
     "metadata": {},
     "output_type": "execute_result"
    },
    {
     "data": {
      "image/png": "[encoded data removed]",
      "text/plain": [
       "<Figure size 288x288 with 1 Axes>"
      ]
     },
     "metadata": {
      "needs_background": "light"
     },
     "output_type": "display_data"
    }
   ],
   "source": [
    "plt.matshow(train_images[934])"
   ]
  },
  {
   "cell_type": "markdown",
   "id": "d96d5b74",
   "metadata": {},
   "source": [
    "# Data - Preprocessing"
   ]
  },
  {
   "cell_type": "code",
   "execution_count": 20,
   "id": "6910121c",
   "metadata": {},
   "outputs": [],
   "source": [
    "train_images = train_images / 255\n",
    "test_images = test_images / 255"
   ]
  },
  {
   "cell_type": "markdown",
   "id": "f1ae85b2",
   "metadata": {},
   "source": [
    "# Building The Model"
   ]
  },
  {
   "cell_type": "code",
   "execution_count": 35,
   "id": "f71ee721",
   "metadata": {},
   "outputs": [],
   "source": [
    "model = keras.Sequential([\n",
    "    keras.layers.Flatten(input_shape=(28,28)), #input layer\n",
    "    keras.layers.Dense(128, activation='relu'), #hidden layer\n",
    "    keras.layers.Dense(10, activation='softmax') #output layer\n",
    "])\n",
    "\n",
    "model.compile(optimizer='adam',\n",
    "             loss='sparse_categorical_crossentropy',\n",
    "             metrics=['accuracy'])"
   ]
  },
  {
   "cell_type": "code",
   "execution_count": 36,
   "id": "116d952d",
   "metadata": {},
   "outputs": [
    {
     "name": "stdout",
     "output_type": "stream",
     "text": [
      "Epoch 1/6\n",
      "1875/1875 [==============================] - 5s 3ms/step - loss: 0.4959 - accuracy: 0.8249\n",
      "Epoch 2/6\n",
      "1875/1875 [==============================] - 5s 3ms/step - loss: 0.3750 - accuracy: 0.8648\n",
      "Epoch 3/6\n",
      "1875/1875 [==============================] - 5s 3ms/step - loss: 0.3342 - accuracy: 0.8777\n",
      "Epoch 4/6\n",
      "1875/1875 [==============================] - 4s 2ms/step - loss: 0.3074 - accuracy: 0.8873\n",
      "Epoch 5/6\n",
      "1875/1875 [==============================] - 5s 3ms/step - loss: 0.2914 - accuracy: 0.8925\n",
      "Epoch 6/6\n",
      "1875/1875 [==============================] - 5s 3ms/step - loss: 0.2770 - accuracy: 0.8974\n"
     ]
    },
    {
     "data": {
      "text/plain": [
       "<keras.callbacks.History at 0x2016b98a880>"
      ]
     },
     "execution_count": 36,
     "metadata": {},
     "output_type": "execute_result"
    }
   ],
   "source": [
    "model.fit(train_images, train_labels, epochs = 6)"
   ]
  },
  {
   "cell_type": "markdown",
   "id": "de0a2d49",
   "metadata": {},
   "source": [
    "# evaluating the model"
   ]
  },
  {
   "cell_type": "code",
   "execution_count": 38,
   "id": "45e97a35",
   "metadata": {},
   "outputs": [
    {
     "name": "stdout",
     "output_type": "stream",
     "text": [
      "313/313 [==============================] - 1s 2ms/step - loss: 0.3292 - accuracy: 0.8823\n",
      "Test Accuaracy =  0.8823000192642212\n"
     ]
    }
   ],
   "source": [
    "test_loss, test_acc = model.evaluate(test_images, test_labels)\n",
    "print(\"Test Accuaracy = \",test_acc)"
   ]
  },
  {
   "cell_type": "markdown",
   "id": "ea19c376",
   "metadata": {},
   "source": [
    "After hyper-parameter tunning, our training accuracy (i.e., 89.7%) and testing accuracy (i.e., 88.2%) are someline some with each other that means our model is not overfitting."
   ]
  },
  {
   "cell_type": "markdown",
   "id": "1d0f5f99",
   "metadata": {},
   "source": [
    "# making predictions"
   ]
  },
  {
   "cell_type": "code",
   "execution_count": 41,
   "id": "42e546da",
   "metadata": {},
   "outputs": [
    {
     "name": "stdout",
     "output_type": "stream",
     "text": [
      "313/313 [==============================] - 1s 2ms/step\n",
      "[[6.7956439e-06 1.1813146e-08 4.8228719e-07 ... 2.7847497e-02\n",
      "  1.9103963e-07 9.6858114e-01]\n",
      " [1.0004833e-05 1.0821412e-11 9.9583375e-01 ... 1.2042059e-14\n",
      "  3.8616028e-07 2.2914263e-11]\n",
      " [7.2248007e-08 9.9999988e-01 1.6973125e-09 ... 3.9296466e-22\n",
      "  8.4558388e-11 6.4430044e-15]\n",
      " ...\n",
      " [1.4500866e-04 4.4514525e-09 2.3636789e-04 ... 1.3073414e-07\n",
      "  9.9843949e-01 1.5544913e-09]\n",
      " [9.1832510e-07 9.9996519e-01 1.3664975e-07 ... 1.6797291e-11\n",
      "  9.0036771e-08 3.7601033e-09]\n",
      " [3.5583322e-05 1.0195336e-07 2.2961069e-05 ... 2.2748908e-02\n",
      "  6.7290867e-04 5.2956082e-05]]\n"
     ]
    }
   ],
   "source": [
    "predictions = model.predict(test_images)\n",
    "print(predictions) #print probability of every single item for the output"
   ]
  },
  {
   "cell_type": "code",
   "execution_count": 42,
   "id": "5039070a",
   "metadata": {},
   "outputs": [
    {
     "data": {
      "text/plain": [
       "array([7.2248007e-08, 9.9999988e-01, 1.6973125e-09, 6.1733343e-09,\n",
       "       4.9328452e-09, 2.2786798e-16, 1.2891599e-10, 3.9296466e-22,\n",
       "       8.4558388e-11, 6.4430044e-15], dtype=float32)"
      ]
     },
     "execution_count": 42,
     "metadata": {},
     "output_type": "execute_result"
    }
   ],
   "source": [
    "predictions[2]"
   ]
  },
  {
   "cell_type": "code",
   "execution_count": 49,
   "id": "c1632466",
   "metadata": {},
   "outputs": [
    {
     "data": {
      "text/plain": [
       "'pullover'"
      ]
     },
     "execution_count": 49,
     "metadata": {},
     "output_type": "execute_result"
    }
   ],
   "source": [
    "class_names[np.argmax(predictions[2156])]"
   ]
  },
  {
   "cell_type": "code",
   "execution_count": 50,
   "id": "934de2d5",
   "metadata": {},
   "outputs": [
    {
     "data": {
      "text/plain": [
       "<matplotlib.image.AxesImage at 0x2016c004b80>"
      ]
     },
     "execution_count": 50,
     "metadata": {},
     "output_type": "execute_result"
    },
    {
     "data": {
      "image/png": "[encoded data removed]",
      "text/plain": [
       "<Figure size 288x288 with 1 Axes>"
      ]
     },
     "metadata": {
      "needs_background": "light"
     },
     "output_type": "display_data"
    }
   ],
   "source": [
    "plt.matshow(test_images[2156])"
   ]
  }
 ],
 "metadata": {
  "kernelspec": {
   "display_name": "Python 3 (ipykernel)",
   "language": "python",
   "name": "python3"
  },
  "language_info": {
   "codemirror_mode": {
    "name": "ipython",
    "version": 3
   },
   "file_extension": ".py",
   "mimetype": "text/x-python",
   "name": "python",
   "nbconvert_exporter": "python",
   "pygments_lexer": "ipython3",
   "version": "3.9.12"
  }
 },
 "nbformat": 4,
 "nbformat_minor": 5
}
